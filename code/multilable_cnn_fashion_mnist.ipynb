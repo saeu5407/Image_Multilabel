{
  "nbformat": 4,
  "nbformat_minor": 0,
  "metadata": {
    "colab": {
      "name": "multilable_cnn_fashion_mnist.ipynb",
      "provenance": [],
      "collapsed_sections": [],
      "include_colab_link": true
    },
    "kernelspec": {
      "display_name": "Python 3",
      "language": "python",
      "name": "python3"
    },
    "language_info": {
      "codemirror_mode": {
        "name": "ipython",
        "version": 3
      },
      "file_extension": ".py",
      "mimetype": "text/x-python",
      "name": "python",
      "nbconvert_exporter": "python",
      "pygments_lexer": "ipython3",
      "version": "3.6.13"
    },
    "accelerator": "GPU"
  },
  "cells": [
    {
      "cell_type": "markdown",
      "metadata": {
        "id": "view-in-github",
        "colab_type": "text"
      },
      "source": [
        "<a href=\"https://colab.research.google.com/github/saeu5407/img_multi_task/blob/main/code/multilable_cnn_fashion_mnist.ipynb\" target=\"_parent\"><img src=\"https://colab.research.google.com/assets/colab-badge.svg\" alt=\"Open In Colab\"/></a>"
      ]
    },
    {
      "cell_type": "markdown",
      "metadata": {
        "id": "PaTPJwgTLk3D"
      },
      "source": [
        "## 작업 내용\n",
        "\n",
        "1. train, valid 7:3으로 분리하여 작업\n",
        "2. 데이터셋이 부족하여 회전 등 생성 작업을 진행하여 작업\n",
        "3. 시간관계상 데이터사이즈, 모델링을 최소화하여 작업\n",
        "\n"
      ]
    },
    {
      "cell_type": "code",
      "metadata": {
        "colab": {
          "base_uri": "https://localhost:8080/"
        },
        "id": "5BIZAMjhMxjS",
        "outputId": "80536f9d-609c-440d-fad0-ad28a7adccbc"
      },
      "source": [
        "from google.colab import drive\n",
        "drive.mount('/content/drive')"
      ],
      "execution_count": 1,
      "outputs": [
        {
          "output_type": "stream",
          "name": "stdout",
          "text": [
            "Drive already mounted at /content/drive; to attempt to forcibly remount, call drive.mount(\"/content/drive\", force_remount=True).\n"
          ]
        }
      ]
    },
    {
      "cell_type": "code",
      "metadata": {
        "id": "fKe7va9PLb98"
      },
      "source": [
        "import pandas as pd\n",
        "from datetime import datetime\n",
        "import numpy as np\n",
        "import matplotlib.pyplot as plt\n",
        "import os\n",
        "import shutil\n",
        "import sys\n",
        "import random\n",
        "import tqdm\n",
        "import glob\n",
        "from keras.preprocessing.image import ImageDataGenerator\n",
        "from keras.models import Sequential, load_model\n",
        "from keras.layers import (Activation, Dropout, Flatten, Dense, GlobalMaxPooling2D,\n",
        "                          BatchNormalization, Input, Conv2D, GlobalAveragePooling2D, Concatenate)\n",
        "# from tensorflow.keras.applications import EfficientNetB0\n",
        "import tensorflow as tf\n",
        "from keras import metrics\n",
        "from keras import backend as K\n",
        "from keras.models import Model\n",
        "from keras.preprocessing.image import ImageDataGenerator\n",
        "from keras.utils import np_utils\n",
        "from keras.preprocessing.image import array_to_img, img_to_array, load_img\n",
        "from keras.layers import *\n",
        "from keras.callbacks import ModelCheckpoint, EarlyStopping\n",
        "from sklearn.metrics import accuracy_score\n",
        "import warnings\n",
        "warnings.filterwarnings('ignore')"
      ],
      "execution_count": 2,
      "outputs": []
    },
    {
      "cell_type": "code",
      "metadata": {
        "id": "5get94F6naVT"
      },
      "source": [
        "# 데이터셋 경로\n",
        "base_path = '/content/drive/MyDrive/Git/img_multi_task'\n",
        "as_is_path = base_path + '/data/Fashion_MNIST_2/images'\n",
        "\n",
        "# 라벨링 정보 데이터\n",
        "label_df = pd.read_csv(base_path + '/data/Fashion_MNIST_2/labels.csv')"
      ],
      "execution_count": 3,
      "outputs": []
    },
    {
      "cell_type": "code",
      "metadata": {
        "colab": {
          "base_uri": "https://localhost:8080/",
          "height": 241
        },
        "id": "sUbl1Fev5qRi",
        "outputId": "73c22909-9311-4c29-e5fd-38e8ee2fd1ab"
      },
      "source": [
        "# MultiLabelBinarizer를 사용하여 라벨링\n",
        "from sklearn.preprocessing import MultiLabelBinarizer\n",
        "\n",
        "mlb = MultiLabelBinarizer()\n",
        "labels = mlb.fit_transform(label_df.class_name.map(lambda x : x.lower().replace(\" \",\"\").split(',')))\n",
        "print(mlb.classes_)\n",
        "labels_name = mlb.classes_\n",
        "\n",
        "# 라벨링된 데이터셋 경로 데이터프레임 생성\n",
        "datapath_df = pd.DataFrame(labels, columns = labels_name)\n",
        "datapath_df['path'] = as_is_path + '/' + label_df.file_name\n",
        "datapath_df.head(5)"
      ],
      "execution_count": 4,
      "outputs": [
        {
          "output_type": "stream",
          "name": "stdout",
          "text": [
            "['ankleboot' 'bag' 'coat' 'dress' 'pullover' 'sandal' 'shirt' 'sneaker'\n",
            " 't-shirt/top' 'trouser']\n"
          ]
        },
        {
          "output_type": "execute_result",
          "data": {
            "text/html": [
              "<div>\n",
              "<style scoped>\n",
              "    .dataframe tbody tr th:only-of-type {\n",
              "        vertical-align: middle;\n",
              "    }\n",
              "\n",
              "    .dataframe tbody tr th {\n",
              "        vertical-align: top;\n",
              "    }\n",
              "\n",
              "    .dataframe thead th {\n",
              "        text-align: right;\n",
              "    }\n",
              "</style>\n",
              "<table border=\"1\" class=\"dataframe\">\n",
              "  <thead>\n",
              "    <tr style=\"text-align: right;\">\n",
              "      <th></th>\n",
              "      <th>ankleboot</th>\n",
              "      <th>bag</th>\n",
              "      <th>coat</th>\n",
              "      <th>dress</th>\n",
              "      <th>pullover</th>\n",
              "      <th>sandal</th>\n",
              "      <th>shirt</th>\n",
              "      <th>sneaker</th>\n",
              "      <th>t-shirt/top</th>\n",
              "      <th>trouser</th>\n",
              "      <th>path</th>\n",
              "    </tr>\n",
              "  </thead>\n",
              "  <tbody>\n",
              "    <tr>\n",
              "      <th>0</th>\n",
              "      <td>0</td>\n",
              "      <td>1</td>\n",
              "      <td>0</td>\n",
              "      <td>0</td>\n",
              "      <td>0</td>\n",
              "      <td>0</td>\n",
              "      <td>0</td>\n",
              "      <td>0</td>\n",
              "      <td>1</td>\n",
              "      <td>1</td>\n",
              "      <td>/content/drive/MyDrive/Git/img_multi_task/data...</td>\n",
              "    </tr>\n",
              "    <tr>\n",
              "      <th>1</th>\n",
              "      <td>1</td>\n",
              "      <td>1</td>\n",
              "      <td>0</td>\n",
              "      <td>0</td>\n",
              "      <td>1</td>\n",
              "      <td>0</td>\n",
              "      <td>0</td>\n",
              "      <td>0</td>\n",
              "      <td>0</td>\n",
              "      <td>0</td>\n",
              "      <td>/content/drive/MyDrive/Git/img_multi_task/data...</td>\n",
              "    </tr>\n",
              "    <tr>\n",
              "      <th>2</th>\n",
              "      <td>0</td>\n",
              "      <td>0</td>\n",
              "      <td>1</td>\n",
              "      <td>0</td>\n",
              "      <td>0</td>\n",
              "      <td>0</td>\n",
              "      <td>1</td>\n",
              "      <td>0</td>\n",
              "      <td>1</td>\n",
              "      <td>1</td>\n",
              "      <td>/content/drive/MyDrive/Git/img_multi_task/data...</td>\n",
              "    </tr>\n",
              "    <tr>\n",
              "      <th>3</th>\n",
              "      <td>1</td>\n",
              "      <td>1</td>\n",
              "      <td>0</td>\n",
              "      <td>0</td>\n",
              "      <td>1</td>\n",
              "      <td>0</td>\n",
              "      <td>0</td>\n",
              "      <td>1</td>\n",
              "      <td>0</td>\n",
              "      <td>0</td>\n",
              "      <td>/content/drive/MyDrive/Git/img_multi_task/data...</td>\n",
              "    </tr>\n",
              "    <tr>\n",
              "      <th>4</th>\n",
              "      <td>0</td>\n",
              "      <td>1</td>\n",
              "      <td>0</td>\n",
              "      <td>1</td>\n",
              "      <td>0</td>\n",
              "      <td>0</td>\n",
              "      <td>0</td>\n",
              "      <td>0</td>\n",
              "      <td>1</td>\n",
              "      <td>0</td>\n",
              "      <td>/content/drive/MyDrive/Git/img_multi_task/data...</td>\n",
              "    </tr>\n",
              "  </tbody>\n",
              "</table>\n",
              "</div>"
            ],
            "text/plain": [
              "   ankleboot  bag  ...  trouser                                               path\n",
              "0          0    1  ...        1  /content/drive/MyDrive/Git/img_multi_task/data...\n",
              "1          1    1  ...        0  /content/drive/MyDrive/Git/img_multi_task/data...\n",
              "2          0    0  ...        1  /content/drive/MyDrive/Git/img_multi_task/data...\n",
              "3          1    1  ...        0  /content/drive/MyDrive/Git/img_multi_task/data...\n",
              "4          0    1  ...        0  /content/drive/MyDrive/Git/img_multi_task/data...\n",
              "\n",
              "[5 rows x 11 columns]"
            ]
          },
          "metadata": {},
          "execution_count": 4
        }
      ]
    },
    {
      "cell_type": "code",
      "metadata": {
        "id": "0bcjMhnz9wi_"
      },
      "source": [
        "train_df = datapath_df.iloc[0:6000]\n",
        "valid_df = datapath_df.iloc[6000:8000]\n",
        "test_df = datapath_df.iloc[8000:10000]"
      ],
      "execution_count": 5,
      "outputs": []
    },
    {
      "cell_type": "code",
      "metadata": {
        "id": "e7wi-zbjnaVa"
      },
      "source": [
        "# 전처리(train)\n",
        "# 이미지 스케일링\n",
        "trainDataGen = ImageDataGenerator(rescale=1./255, # 이미지 스케일링\n",
        "                                 rotation_range = 30, # 임의로 이미지를 회전\n",
        "                                 width_shift_range=0.1, # 임의로 이미지를 수평 이동\n",
        "                                 height_shift_range=0.1, # 임의로 이미지를 수직 이동\n",
        "                                 shear_range=0.2, # 임의로 이미지를 변형\n",
        "                                 zoom_range=0.2, # 임의로 이미지를 확대/축소\n",
        "                                 horizontal_flip=False, # 수평방향으로 뒤집기\n",
        "                                 fill_mode='nearest' # 이미지 경계의 바깥 공간을 어떻게 채울지에 대한 파라미터\n",
        "                                 )\n",
        "\n",
        "testDataGen = ImageDataGenerator(rescale=1./255)"
      ],
      "execution_count": 6,
      "outputs": []
    },
    {
      "cell_type": "code",
      "metadata": {
        "id": "e7T2-OmCnaVe",
        "colab": {
          "base_uri": "https://localhost:8080/"
        },
        "outputId": "73ad4003-354b-451c-802a-bcbff4ceaf9f"
      },
      "source": [
        "# Train Set\n",
        "trainGenSet = testDataGen.flow_from_dataframe(\n",
        "      train_df,\n",
        "      x_col='path',\n",
        "      y_col=labels_name,\n",
        "      batch_size=32,\n",
        "      seed=42,\n",
        "      shuffle=True,\n",
        "      target_size=(224,224),\n",
        "      class_mode='raw')\n",
        "\n",
        "# Valid Set\n",
        "testGenSet = testDataGen.flow_from_dataframe(\n",
        "      valid_df,\n",
        "      x_col='path',\n",
        "      y_col=labels_name,\n",
        "      batch_size=32,\n",
        "      seed=42,\n",
        "      shuffle=True,\n",
        "      target_size=(224,224),\n",
        "      class_mode='raw')\n",
        "\n",
        "# Test Set\n",
        "finalGenSet = testDataGen.flow_from_dataframe(\n",
        "      test_df,\n",
        "      x_col='path',\n",
        "      y_col=labels_name,\n",
        "      batch_size=32,\n",
        "      seed=42,\n",
        "      shuffle=False,\n",
        "      target_size=(224,224),\n",
        "      class_mode='raw')"
      ],
      "execution_count": 7,
      "outputs": [
        {
          "output_type": "stream",
          "name": "stdout",
          "text": [
            "Found 6000 validated image filenames.\n",
            "Found 2000 validated image filenames.\n",
            "Found 2000 validated image filenames.\n"
          ]
        }
      ]
    },
    {
      "cell_type": "code",
      "metadata": {
        "colab": {
          "base_uri": "https://localhost:8080/",
          "height": 361
        },
        "id": "sPM5fGdxBpRy",
        "outputId": "77127fa6-9096-4004-e757-a1b2f812acbf"
      },
      "source": [
        "# 샘플 이미지\n",
        "print(test_df.iloc[0])\n",
        "a = plt.imread(test_df.path.iloc[0])\n",
        "plt.imshow(a)"
      ],
      "execution_count": 8,
      "outputs": [
        {
          "output_type": "stream",
          "name": "stdout",
          "text": [
            "ankleboot                                                      0\n",
            "bag                                                            0\n",
            "coat                                                           1\n",
            "dress                                                          0\n",
            "pullover                                                       0\n",
            "sandal                                                         1\n",
            "shirt                                                          0\n",
            "sneaker                                                        1\n",
            "t-shirt/top                                                    0\n",
            "trouser                                                        0\n",
            "path           /content/drive/MyDrive/Git/img_multi_task/data...\n",
            "Name: 8000, dtype: object\n"
          ]
        },
        {
          "output_type": "execute_result",
          "data": {
            "text/plain": [
              "<matplotlib.image.AxesImage at 0x7fdfcc22e1d0>"
            ]
          },
          "metadata": {},
          "execution_count": 8
        },
        {
          "output_type": "display_data",
          "data": {
            "image/png": "[encoded data removed]",
            "text/plain": [
              "<Figure size 432x288 with 1 Axes>"
            ]
          },
          "metadata": {
            "needs_background": "light"
          }
        }
      ]
    },
    {
      "cell_type": "code",
      "metadata": {
        "id": "khnNudRW5533",
        "outputId": "4349fdcc-9c8b-4286-e2ea-a8e2729487e9",
        "colab": {
          "base_uri": "https://localhost:8080/"
        }
      },
      "source": [
        "a.shape"
      ],
      "execution_count": 9,
      "outputs": [
        {
          "output_type": "execute_result",
          "data": {
            "text/plain": [
              "(83, 334, 4)"
            ]
          },
          "metadata": {},
          "execution_count": 9
        }
      ]
    },
    {
      "cell_type": "code",
      "metadata": {
        "colab": {
          "base_uri": "https://localhost:8080/"
        },
        "id": "bSdN8u4zMWsO",
        "tags": [],
        "outputId": "03f27bc5-f860-4caa-f053-a9a5d43a4172"
      },
      "source": [
        "%cd drive/My\\ Drive/Git/img_multi_task/code\n",
        "from vgg16_adj import vgg16_adj\n",
        "\n",
        "model = vgg16_adj(model_type = 'pooling',       # pooling 또는 flatten 형식 설정\n",
        "                  loss='MAE',   # keras 기준, 필요한 loss function 설정\n",
        "                  final_dense=len(labels_name), # 최종 결과 Dense 설정\n",
        "                  final_activation='sigmoid',   # 마지막 Activation 설정\n",
        "                  input_shape = (83, 334, 3))\n",
        "\n",
        "# fig_generator\n",
        "early_stopping = EarlyStopping(monitor='val_loss', mode='min', verbose=1, patience=2000)\n",
        "checkpoint = ModelCheckpoint(base_path + '/model/multilabel_model_fashion.h5', monitor='val_loss', verbose=1, save_best_only=True, mode='min')\n",
        "\n",
        "model.fit_generator(\n",
        "    trainGenSet,\n",
        "    steps_per_epoch=43,\n",
        "    epochs=100,\n",
        "    validation_data=testGenSet,\n",
        "    validation_steps=10,\n",
        "    callbacks=[early_stopping, checkpoint]\n",
        ")\n",
        "\n",
        "scores = model.evaluate_generator(testGenSet)\n",
        "print(scores)"
      ],
      "execution_count": null,
      "outputs": [
        {
          "output_type": "stream",
          "name": "stdout",
          "text": [
            "/content/drive/My Drive/Git/img_multi_task/code\n",
            "Model: \"VGG16_ADJ\"\n",
            "_________________________________________________________________\n",
            "Layer (type)                 Output Shape              Param #   \n",
            "=================================================================\n",
            "conv2d (Conv2D)              (None, 83, 334, 64)       1792      \n",
            "_________________________________________________________________\n",
            "conv2d_1 (Conv2D)            (None, 83, 334, 64)       36928     \n",
            "_________________________________________________________________\n",
            "max_pooling2d (MaxPooling2D) (None, 41, 167, 64)       0         \n",
            "_________________________________________________________________\n",
            "conv2d_2 (Conv2D)            (None, 41, 167, 128)      73856     \n",
            "_________________________________________________________________\n",
            "conv2d_3 (Conv2D)            (None, 41, 167, 128)      147584    \n",
            "_________________________________________________________________\n",
            "max_pooling2d_1 (MaxPooling2 (None, 20, 83, 128)       0         \n",
            "_________________________________________________________________\n",
            "conv2d_4 (Conv2D)            (None, 20, 83, 256)       295168    \n",
            "_________________________________________________________________\n",
            "conv2d_5 (Conv2D)            (None, 20, 83, 256)       590080    \n",
            "_________________________________________________________________\n",
            "conv2d_6 (Conv2D)            (None, 20, 83, 256)       590080    \n",
            "_________________________________________________________________\n",
            "max_pooling2d_2 (MaxPooling2 (None, 10, 41, 256)       0         \n",
            "_________________________________________________________________\n",
            "conv2d_7 (Conv2D)            (None, 10, 41, 512)       1180160   \n",
            "_________________________________________________________________\n",
            "conv2d_8 (Conv2D)            (None, 10, 41, 512)       2359808   \n",
            "_________________________________________________________________\n",
            "conv2d_9 (Conv2D)            (None, 10, 41, 512)       2359808   \n",
            "_________________________________________________________________\n",
            "max_pooling2d_3 (MaxPooling2 (None, 5, 20, 512)        0         \n",
            "_________________________________________________________________\n",
            "conv2d_10 (Conv2D)           (None, 5, 20, 512)        2359808   \n",
            "_________________________________________________________________\n",
            "conv2d_11 (Conv2D)           (None, 5, 20, 512)        2359808   \n",
            "_________________________________________________________________\n",
            "conv2d_12 (Conv2D)           (None, 5, 20, 512)        2359808   \n",
            "_________________________________________________________________\n",
            "max_pooling2d_4 (MaxPooling2 (None, 2, 10, 512)        0         \n",
            "_________________________________________________________________\n",
            "global_average_pooling2d (Gl (None, 512)               0         \n",
            "_________________________________________________________________\n",
            "after_gap (Dense)            (None, 512)               262656    \n",
            "_________________________________________________________________\n",
            "dense (Dense)                (None, 10)                5130      \n",
            "=================================================================\n",
            "Total params: 14,982,474\n",
            "Trainable params: 14,982,474\n",
            "Non-trainable params: 0\n",
            "_________________________________________________________________\n",
            "Epoch 1/100\n",
            "43/43 [==============================] - 54s 842ms/step - loss: 0.3520 - accuracy: 0.3314 - val_loss: 0.3444 - val_accuracy: 0.3125\n",
            "\n",
            "Epoch 00001: val_loss improved from inf to 0.34438, saving model to /content/drive/MyDrive/Git/img_multi_task/model/multilabel_model_fashion.h5\n",
            "Epoch 2/100\n",
            "43/43 [==============================] - 36s 828ms/step - loss: 0.3409 - accuracy: 0.3321 - val_loss: 0.3419 - val_accuracy: 0.3094\n",
            "\n",
            "Epoch 00002: val_loss improved from 0.34438 to 0.34188, saving model to /content/drive/MyDrive/Git/img_multi_task/model/multilabel_model_fashion.h5\n",
            "Epoch 3/100\n",
            "43/43 [==============================] - 43s 1s/step - loss: 0.3431 - accuracy: 0.3294 - val_loss: 0.3434 - val_accuracy: 0.3094\n",
            "\n",
            "Epoch 00003: val_loss did not improve from 0.34188\n",
            "Epoch 4/100\n",
            "43/43 [==============================] - 36s 830ms/step - loss: 0.3412 - accuracy: 0.3241 - val_loss: 0.3450 - val_accuracy: 0.3438\n",
            "\n",
            "Epoch 00004: val_loss did not improve from 0.34188\n",
            "Epoch 5/100\n",
            " 7/43 [===>..........................] - ETA: 27s - loss: 0.3348 - accuracy: 0.3080"
          ]
        }
      ]
    },
    {
      "cell_type": "code",
      "metadata": {
        "id": "LkA-kc7XnaVk"
      },
      "source": [
        "model_ = load_model(base_path + '/model/multilabel_model_fashion.h5')\n",
        "pred = model_.predict_generator(finalGenSet, steps=2)\n",
        "pred_df = pd.DataFrame(pred, columns = labels_name)\n",
        "pred_df['path'] = valid_df['path'].iloc[0:64].reset_index(drop=True)\n",
        "pred_df.head(5)"
      ],
      "execution_count": null,
      "outputs": []
    },
    {
      "cell_type": "code",
      "metadata": {
        "id": "ugPKm3RMnaVl"
      },
      "source": [
        "import matplotlib.pyplot as plt\n",
        "j = 23\n",
        "a = plt.imread(pred_df['path'][j])\n",
        "plt.imshow(a)\n",
        "pred_df.iloc[j:j+1,:] * 100"
      ],
      "execution_count": null,
      "outputs": []
    }
  ]
}