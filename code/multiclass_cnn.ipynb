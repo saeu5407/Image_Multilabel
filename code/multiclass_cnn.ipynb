{
  "nbformat": 4,
  "nbformat_minor": 0,
  "metadata": {
    "colab": {
      "name": "multiclass_cnn.ipynb",
      "provenance": [],
      "collapsed_sections": [],
      "include_colab_link": true
    },
    "kernelspec": {
      "display_name": "Python 3",
      "language": "python",
      "name": "python3"
    },
    "language_info": {
      "codemirror_mode": {
        "name": "ipython",
        "version": 3
      },
      "file_extension": ".py",
      "mimetype": "text/x-python",
      "name": "python",
      "nbconvert_exporter": "python",
      "pygments_lexer": "ipython3",
      "version": "3.6.13"
    }
  },
  "cells": [
    {
      "cell_type": "markdown",
      "metadata": {
        "id": "view-in-github",
        "colab_type": "text"
      },
      "source": [
        "<a href=\"https://colab.research.google.com/github/saeu5407/Image_Multilabel/blob/main/code/multiclass_cnn.ipynb\" target=\"_parent\"><img src=\"https://colab.research.google.com/assets/colab-badge.svg\" alt=\"Open In Colab\"/></a>"
      ]
    },
    {
      "cell_type": "markdown",
      "metadata": {
        "id": "PaTPJwgTLk3D"
      },
      "source": [
        "## 작업 내용\n",
        "\n",
        "1. train, valid 7:3으로 분리하여 작업\n",
        "2. 데이터셋이 부족하여 회전 등 생성 작업을 진행하여 작업\n",
        "3. 시간관계상 데이터사이즈, 모델링을 최소화하여 작업\n",
        "\n"
      ]
    },
    {
      "cell_type": "code",
      "metadata": {
        "colab": {
          "base_uri": "https://localhost:8080/"
        },
        "id": "5BIZAMjhMxjS",
        "outputId": "fbdfb384-bf1a-4800-9af9-01c5155cc751"
      },
      "source": [
        "from google.colab import drive\n",
        "drive.mount('/content/drive')"
      ],
      "execution_count": 1,
      "outputs": [
        {
          "output_type": "stream",
          "name": "stdout",
          "text": [
            "Mounted at /content/drive\n"
          ]
        }
      ]
    },
    {
      "cell_type": "code",
      "metadata": {
        "id": "fKe7va9PLb98"
      },
      "source": [
        "import pandas as pd\n",
        "from datetime import datetime\n",
        "import numpy as np\n",
        "import matplotlib.pyplot as plt\n",
        "import os\n",
        "import shutil\n",
        "import sys\n",
        "import random\n",
        "import tqdm\n",
        "import glob\n",
        "from keras.preprocessing.image import ImageDataGenerator\n",
        "from keras.models import Sequential, load_model\n",
        "from keras.layers import (Activation, Dropout, Flatten, Dense, GlobalMaxPooling2D,\n",
        "                          BatchNormalization, Input, Conv2D, GlobalAveragePooling2D, Concatenate)\n",
        "# from tensorflow.keras.applications import EfficientNetB0\n",
        "from keras import metrics\n",
        "from keras import backend as K\n",
        "from keras.models import Model\n",
        "from keras.preprocessing.image import ImageDataGenerator\n",
        "from keras.utils import np_utils\n",
        "from keras.preprocessing.image import array_to_img, img_to_array, load_img\n",
        "from keras.layers import *\n",
        "from keras.callbacks import ModelCheckpoint, EarlyStopping\n",
        "from sklearn.metrics import accuracy_score\n",
        "import warnings\n",
        "warnings.filterwarnings('ignore')"
      ],
      "execution_count": 2,
      "outputs": []
    },
    {
      "cell_type": "code",
      "metadata": {
        "id": "iSlDdaJSnaVP"
      },
      "source": [
        "\"\"\"\n",
        "이미지 데이터셋 Train,Valid 분리\n",
        "데이터셋은 한 경로 내에 카테고리별 폴더로 나뉘어야 한다.\n",
        "\n",
        "as_is_path = 이미지 원본 경로\n",
        "train_path = 트레이닝 세트 생성 경로\n",
        "valid_path = 테스트 세트 생성 경로\n",
        "split_size = 분할 비율\n",
        "\"\"\"\n",
        "def train_val_split(as_is_path, train_path, valid_path, split_size=0.7):\n",
        "\n",
        "    # 기존 데이터 카테고리 폴더 확인\n",
        "    # 카테고리 저장\n",
        "    fold_ = os.listdir(as_is_path)\n",
        "    fold_.remove('.DS_Store')\n",
        "\n",
        "    # train set 폴더 생성\n",
        "    if os.path.isdir(train_path) == False:\n",
        "        os.mkdir(train_path)\n",
        "    for i in fold_:\n",
        "        if os.path.isdir(train_path + '/' + i) == False:\n",
        "            os.mkdir(train_path + '/' + i)\n",
        "\n",
        "    # validation set 폴더 생성\n",
        "    if os.path.isdir(valid_path) == False:\n",
        "        os.mkdir(valid_path)\n",
        "    for i in fold_:\n",
        "        if os.path.isdir(valid_path + '/' + i) == False:\n",
        "            os.mkdir(valid_path + '/' + i)\n",
        "\n",
        "    # split 실행 및 copy하여 적재\n",
        "    for idx in fold_:\n",
        "        listfile = os.listdir(as_is_path + '/' + idx)\n",
        "        train_size = int(len(listfile)*split_size)\n",
        "        print(\"{} | train {}, valid {} split\".format(idx, train_size, len(listfile)-train_size))\n",
        "        for fname in listfile[0:train_size]:\n",
        "            shutil.copyfile(os.path.join(as_is_path + '/' + idx, fname),os.path.join(train_path + '/' + idx, fname))\n",
        "        for fname in listfile[train_size:]:\n",
        "            shutil.copyfile(os.path.join(as_is_path + '/' + idx, fname),os.path.join(valid_path + '/' + idx, fname))"
      ],
      "execution_count": 3,
      "outputs": []
    },
    {
      "cell_type": "code",
      "metadata": {
        "id": "5get94F6naVT"
      },
      "source": [
        "# 데이터셋 경로\n",
        "base_path = '/content/drive/MyDrive/Git/Image_Multilabel'\n",
        "as_is_path = base_path + '/data/balance'\n",
        "train_path = as_is_path + '_trd'\n",
        "valid_path = as_is_path + '_valid'\n",
        "test_path = base_path + '/data/balance_test'\n",
        "\n",
        "# train_val_split 함수 실행\n",
        "#train_val_split(as_is_path, train_path, valid_path, split_size=0.8)"
      ],
      "execution_count": 4,
      "outputs": []
    },
    {
      "cell_type": "code",
      "metadata": {
        "id": "e7wi-zbjnaVa"
      },
      "source": [
        "# 전처리(train)\n",
        "# 이미지 스케일링\n",
        "trainDataGen = ImageDataGenerator(rescale=1./255, # 이미지 스케일링\n",
        "                                 rotation_range = 30, # 임의로 이미지를 회전\n",
        "                                 width_shift_range=0.1, # 임의로 이미지를 수평 이동\n",
        "                                 height_shift_range=0.1, # 임의로 이미지를 수직 이동\n",
        "                                 shear_range=0.2, # 임의로 이미지를 변형\n",
        "                                 zoom_range=0.2, # 임의로 이미지를 확대/축소\n",
        "                                 horizontal_flip=False, # 수평방향으로 뒤집기\n",
        "                                 fill_mode='nearest' # 이미지 경계의 바깥 공간을 어떻게 채울지에 대한 파라미터\n",
        "                                 )\n",
        "\n",
        "testDataGen = ImageDataGenerator(rescale=1./255)"
      ],
      "execution_count": 5,
      "outputs": []
    },
    {
      "cell_type": "code",
      "metadata": {
        "id": "0mQItIoknaVc"
      },
      "source": [
        "from glob import glob\n",
        "\"\"\"\n",
        "MultiLable을 만들기 위한 함수\n",
        "여기서는 앞에가 color, 뒤에가 item인 black_shirt.png 로 구성되어있기에 목표에 맞게 작업\n",
        "향후 변경 필요시 columns= / get_dummies 등을 변경하여 사용\n",
        "\"\"\"\n",
        "def make_multi_lable(data_path):\n",
        "    data_set = glob(data_path + '/**/*.*', recursive = True)\n",
        "    dt_f = pd.DataFrame(list(map(lambda x : x.split('/')[-2].split('_'), data_set)), columns=['color','item'])\n",
        "    dt_f = pd.concat([pd.get_dummies(dt_f['color']), pd.get_dummies(dt_f['item'])], axis=1)\n",
        "    dt_f_col = list(dt_f.columns)\n",
        "    dt_f['path'] = data_set\n",
        "    dt_f\n",
        "    \n",
        "    return dt_f, dt_f_col"
      ],
      "execution_count": 6,
      "outputs": []
    },
    {
      "cell_type": "code",
      "metadata": {
        "id": "e7T2-OmCnaVe",
        "colab": {
          "base_uri": "https://localhost:8080/"
        },
        "outputId": "d91c583a-f21f-4ef0-f582-825be535b117"
      },
      "source": [
        "# 이미지 스케일링\n",
        "dt_train, dt_train_col = make_multi_lable(train_path)\n",
        "dt_valid, dt_valid_col = make_multi_lable(valid_path)\n",
        "\n",
        "# Train Set\n",
        "trainGenSet = trainDataGen.flow_from_directory(\n",
        "    train_path,\n",
        "    target_size=(224,224),\n",
        "    batch_size=32,\n",
        "    class_mode='categorical'\n",
        ")\n",
        "\n",
        "# Valid Set\n",
        "testGenSet = testDataGen.flow_from_directory(\n",
        "    valid_path,\n",
        "    target_size=(224,224),\n",
        "    batch_size=32,\n",
        "    class_mode='categorical'\n",
        ")\n",
        "\n",
        "# Test Set\n",
        "# Valid Set 그대로 셔플 제외하여 사용\n",
        "finalGenSet = testDataGen.flow_from_directory(\n",
        "    valid_path,\n",
        "    target_size=(224,224),\n",
        "    batch_size=32,\n",
        "    class_mode=None\n",
        ")\n",
        "\n",
        "# White Pants\n",
        "whiteGenSet = testDataGen.flow_from_directory(\n",
        "    test_path,\n",
        "    target_size=(224,224),\n",
        "    batch_size=32,\n",
        "    class_mode=None\n",
        ")"
      ],
      "execution_count": 12,
      "outputs": [
        {
          "output_type": "stream",
          "name": "stdout",
          "text": [
            "Found 3859 images belonging to 11 classes.\n",
            "Found 968 images belonging to 11 classes.\n",
            "Found 968 images belonging to 11 classes.\n",
            "Found 1 images belonging to 1 classes.\n"
          ]
        }
      ]
    },
    {
      "cell_type": "code",
      "metadata": {
        "colab": {
          "base_uri": "https://localhost:8080/"
        },
        "id": "bSdN8u4zMWsO",
        "tags": [],
        "outputId": "0c8fc624-42d7-4fa7-e83e-9dd288a9852a"
      },
      "source": [
        "# 모델\n",
        "model = Sequential()\n",
        "model.add(Conv2D(64, kernel_size=(3,3), padding='same', input_shape=(224,224,3), activation='relu'))\n",
        "model.add(MaxPooling2D(pool_size=(2,2)))\n",
        "model.add(Dropout(0.25))\n",
        "\n",
        "model.add(Conv2D(128, kernel_size=(3,3), padding='same', activation='relu'))\n",
        "model.add(MaxPooling2D(pool_size=(2,2)))\n",
        "model.add(Dropout(0.25))\n",
        "\n",
        "model.add(Conv2D(256, kernel_size=(3,3), padding='same', activation='relu'))\n",
        "model.add(MaxPooling2D(pool_size=(2,2)))\n",
        "model.add(Dropout(0.25))\n",
        "\n",
        "# model.add(Flatten())\n",
        "model.add(GlobalAveragePooling2D())\n",
        "model.add(Dense(128, activation='relu', name='after_gap'))\n",
        "model.add(Dropout(0.25))\n",
        "model.add(Dense(11, activation='softmax'))\n",
        "\n",
        "# 학습\n",
        "model.compile(loss='categorical_crossentropy',\n",
        "             optimizer='adam',\n",
        "             metrics=['accuracy'])\n",
        "\n",
        "model.summary()\n",
        "\n",
        "# fig_generator\n",
        "early_stopping = EarlyStopping(monitor='val_loss', mode='min', verbose=1, patience=2000)\n",
        "checkpoint = ModelCheckpoint(base_path + '/model/multiclass_model.h5', monitor='val_loss', verbose=1, save_best_only=True, mode='min')\n",
        "\n",
        "model.fit_generator(\n",
        "    trainGenSet,\n",
        "    steps_per_epoch=43,\n",
        "    epochs=5,\n",
        "    validation_data=testGenSet,\n",
        "    validation_steps=10,\n",
        "    callbacks=[early_stopping, checkpoint]\n",
        ")\n",
        "\n",
        "scores = model.evaluate_generator(testGenSet)\n",
        "print(scores)"
      ],
      "execution_count": 15,
      "outputs": [
        {
          "output_type": "stream",
          "name": "stdout",
          "text": [
            "Model: \"sequential_3\"\n",
            "_________________________________________________________________\n",
            "Layer (type)                 Output Shape              Param #   \n",
            "=================================================================\n",
            "conv2d_9 (Conv2D)            (None, 224, 224, 64)      1792      \n",
            "_________________________________________________________________\n",
            "max_pooling2d_9 (MaxPooling2 (None, 112, 112, 64)      0         \n",
            "_________________________________________________________________\n",
            "dropout_12 (Dropout)         (None, 112, 112, 64)      0         \n",
            "_________________________________________________________________\n",
            "conv2d_10 (Conv2D)           (None, 112, 112, 128)     73856     \n",
            "_________________________________________________________________\n",
            "max_pooling2d_10 (MaxPooling (None, 56, 56, 128)       0         \n",
            "_________________________________________________________________\n",
            "dropout_13 (Dropout)         (None, 56, 56, 128)       0         \n",
            "_________________________________________________________________\n",
            "conv2d_11 (Conv2D)           (None, 56, 56, 256)       295168    \n",
            "_________________________________________________________________\n",
            "max_pooling2d_11 (MaxPooling (None, 28, 28, 256)       0         \n",
            "_________________________________________________________________\n",
            "dropout_14 (Dropout)         (None, 28, 28, 256)       0         \n",
            "_________________________________________________________________\n",
            "global_average_pooling2d_3 ( (None, 256)               0         \n",
            "_________________________________________________________________\n",
            "after_gap (Dense)            (None, 128)               32896     \n",
            "_________________________________________________________________\n",
            "dropout_15 (Dropout)         (None, 128)               0         \n",
            "_________________________________________________________________\n",
            "dense_3 (Dense)              (None, 11)                1419      \n",
            "=================================================================\n",
            "Total params: 405,131\n",
            "Trainable params: 405,131\n",
            "Non-trainable params: 0\n",
            "_________________________________________________________________\n",
            "Epoch 1/5\n",
            "43/43 [==============================] - 396s 9s/step - loss: 2.2056 - accuracy: 0.1753 - val_loss: 1.7417 - val_accuracy: 0.3375\n",
            "\n",
            "Epoch 00001: val_loss improved from inf to 1.74171, saving model to /content/drive/MyDrive/Git/Image_Multilabel/model/multiclass_model.h5\n",
            "Epoch 2/5\n",
            "43/43 [==============================] - 418s 10s/step - loss: 1.6052 - accuracy: 0.3539 - val_loss: 1.4014 - val_accuracy: 0.5094\n",
            "\n",
            "Epoch 00002: val_loss improved from 1.74171 to 1.40141, saving model to /content/drive/MyDrive/Git/Image_Multilabel/model/multiclass_model.h5\n",
            "Epoch 3/5\n",
            "43/43 [==============================] - 400s 9s/step - loss: 1.3980 - accuracy: 0.4417 - val_loss: 1.2624 - val_accuracy: 0.5188\n",
            "\n",
            "Epoch 00003: val_loss improved from 1.40141 to 1.26238, saving model to /content/drive/MyDrive/Git/Image_Multilabel/model/multiclass_model.h5\n",
            "Epoch 4/5\n",
            "43/43 [==============================] - 406s 9s/step - loss: 1.2782 - accuracy: 0.4789 - val_loss: 1.1680 - val_accuracy: 0.5031\n",
            "\n",
            "Epoch 00004: val_loss improved from 1.26238 to 1.16805, saving model to /content/drive/MyDrive/Git/Image_Multilabel/model/multiclass_model.h5\n",
            "Epoch 5/5\n",
            "43/43 [==============================] - 403s 9s/step - loss: 1.2531 - accuracy: 0.4993 - val_loss: 1.2145 - val_accuracy: 0.5281\n",
            "\n",
            "Epoch 00005: val_loss did not improve from 1.16805\n",
            "[1.1847456693649292, 0.5320248007774353]\n"
          ]
        }
      ]
    },
    {
      "cell_type": "code",
      "metadata": {
        "id": "LkA-kc7XnaVk"
      },
      "source": [
        "model_ = load_model(base_path + '/model/multiclass_model.h5')\n",
        "pred = model_.predict_generator(finalGenSet, steps=1)\n",
        "pred_df = pd.DataFrame(pred, columns = trainGenSet.class_indices)\n",
        "pred_df['path'] = dt_valid['path'][0:32]"
      ],
      "execution_count": 19,
      "outputs": []
    },
    {
      "cell_type": "markdown",
      "metadata": {
        "id": "_R0MggMuz9L1"
      },
      "source": [
        "멀티레이블과는 다르게 각각이 하나씩 맵핑되어 있는 걸 확인할 수 있습니다.\n",
        "\n",
        "멀티레이블 : 블랙, 드레스\n",
        "멀티클래스 : 블랙드레스"
      ]
    },
    {
      "cell_type": "code",
      "metadata": {
        "id": "ugPKm3RMnaVl",
        "colab": {
          "base_uri": "https://localhost:8080/",
          "height": 332
        },
        "outputId": "deb8ac56-1e22-4caf-b84c-acade2337c3c"
      },
      "source": [
        "import matplotlib.pyplot as plt\n",
        "j = 4\n",
        "a = plt.imread(pred_df['path'][j])\n",
        "plt.imshow(a)\n",
        "pred_df.iloc[j:j+1,:] * 100"
      ],
      "execution_count": 22,
      "outputs": [
        {
          "output_type": "execute_result",
          "data": {
            "text/html": [
              "<div>\n",
              "<style scoped>\n",
              "    .dataframe tbody tr th:only-of-type {\n",
              "        vertical-align: middle;\n",
              "    }\n",
              "\n",
              "    .dataframe tbody tr th {\n",
              "        vertical-align: top;\n",
              "    }\n",
              "\n",
              "    .dataframe thead th {\n",
              "        text-align: right;\n",
              "    }\n",
              "</style>\n",
              "<table border=\"1\" class=\"dataframe\">\n",
              "  <thead>\n",
              "    <tr style=\"text-align: right;\">\n",
              "      <th></th>\n",
              "      <th>black_dress</th>\n",
              "      <th>black_pants</th>\n",
              "      <th>black_shirt</th>\n",
              "      <th>blue_dress</th>\n",
              "      <th>blue_pants</th>\n",
              "      <th>blue_shirt</th>\n",
              "      <th>red_dress</th>\n",
              "      <th>red_pants</th>\n",
              "      <th>red_shirt</th>\n",
              "      <th>white_dress</th>\n",
              "      <th>white_shirt</th>\n",
              "      <th>path</th>\n",
              "    </tr>\n",
              "  </thead>\n",
              "  <tbody>\n",
              "    <tr>\n",
              "      <th>4</th>\n",
              "      <td>9.056885</td>\n",
              "      <td>2.071847</td>\n",
              "      <td>14.38857</td>\n",
              "      <td>45.011108</td>\n",
              "      <td>19.897383</td>\n",
              "      <td>7.249785</td>\n",
              "      <td>0.035366</td>\n",
              "      <td>0.075118</td>\n",
              "      <td>0.006163</td>\n",
              "      <td>2.119858</td>\n",
              "      <td>0.087912</td>\n",
              "      <td>/content/drive/MyDrive/Git/Image_Multilabel/da...</td>\n",
              "    </tr>\n",
              "  </tbody>\n",
              "</table>\n",
              "</div>"
            ],
            "text/plain": [
              "   black_dress  ...                                               path\n",
              "4     9.056885  ...  /content/drive/MyDrive/Git/Image_Multilabel/da...\n",
              "\n",
              "[1 rows x 12 columns]"
            ]
          },
          "metadata": {},
          "execution_count": 22
        },
        {
          "output_type": "display_data",
          "data": {
            "image/png": "[encoded data removed]",
            "text/plain": [
              "<Figure size 432x288 with 1 Axes>"
            ]
          },
          "metadata": {
            "needs_background": "light"
          }
        }
      ]
    },
    {
      "cell_type": "markdown",
      "metadata": {
        "id": "h5pjEDzxz-Kf"
      },
      "source": [
        "멀티레이블에서는 성능적인 문제로 화이트팬츠를 예측하지 못했다면\n",
        "멀티클래스에서는 애초에 화이트팬츠라는 카테고리가 없기에 예측할 수 없습니다."
      ]
    },
    {
      "cell_type": "code",
      "metadata": {
        "id": "MaiiPF1inaVn",
        "colab": {
          "base_uri": "https://localhost:8080/",
          "height": 359
        },
        "outputId": "54b1979c-56d1-4de2-ff69-0a10acd25d8d"
      },
      "source": [
        "pred = model_.predict_generator(whiteGenSet, steps=1)\n",
        "pred_df = pd.DataFrame(pred, columns = trainGenSet.class_indices)\n",
        "print(pred_df*100)\n",
        "a = plt.imread(glob(test_path + '/testdata/*')[0])\n",
        "plt.imshow(a)"
      ],
      "execution_count": 23,
      "outputs": [
        {
          "output_type": "stream",
          "name": "stdout",
          "text": [
            "   black_dress  black_pants  black_shirt  ...  red_shirt  white_dress  white_shirt\n",
            "0     0.583323      1.86263     0.585009  ...    0.08931     3.324299    88.709076\n",
            "\n",
            "[1 rows x 11 columns]\n"
          ]
        },
        {
          "output_type": "execute_result",
          "data": {
            "text/plain": [
              "<matplotlib.image.AxesImage at 0x7efe133d7b90>"
            ]
          },
          "metadata": {},
          "execution_count": 23
        },
        {
          "output_type": "display_data",
          "data": {
            "image/png": "[encoded data removed]",
            "text/plain": [
              "<Figure size 432x288 with 1 Axes>"
            ]
          },
          "metadata": {
            "needs_background": "light"
          }
        }
      ]
    }
  ]
}